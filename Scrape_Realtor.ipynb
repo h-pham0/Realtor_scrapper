{
 "cells": [
  {
   "cell_type": "code",
   "execution_count": 1,
   "id": "b0d8934e",
   "metadata": {},
   "outputs": [],
   "source": [
    "import json\n",
    "import math\n",
    "import random\n",
    "import requests\n",
    "from bs4 import BeautifulSoup\n",
    "import pandas as pd\n",
    "import numpy as np\n",
    "import time\n",
    "import warnings"
   ]
  },
  {
   "cell_type": "code",
   "execution_count": 2,
   "id": "ff3ba272",
   "metadata": {},
   "outputs": [],
   "source": [
    "BASE_HEADERS = {\n",
    "    \"user-agent\": \"Mozilla/5.0 (Windows NT 10.0; Win64; x64) AppleWebKit/537.36 (KHTML, like Gecko) Chrome/96.0.4664.110 Safari/537.36\",\n",
    "    \"accept\": \"text/html,application/xhtml+xml,application/xml;q=0.9,image/webp,image/apng,*/*;q=0.8\",\n",
    "    \"accept-language\": \"en-US;en;q=0.9\",\n",
    "    \"accept-encoding\": \"gzip, deflate, br\",\n",
    "}"
   ]
  },
  {
   "cell_type": "code",
   "execution_count": null,
   "id": "93dc6a18",
   "metadata": {},
   "outputs": [],
   "source": [
    "# total_page = 206"
   ]
  },
  {
   "cell_type": "code",
   "execution_count": null,
   "id": "c61a3946",
   "metadata": {},
   "outputs": [],
   "source": [
    "# PROXIES = {\n",
    "#     \"http://178.155.104.84:59071\",\n",
    "#     \"http://178.155.104.84:59071\"\n",
    "# }\n",
    "# PROXIES = {\"http://11.456.448.110:8080\"}"
   ]
  },
  {
   "cell_type": "code",
   "execution_count": 27,
   "id": "dc165807",
   "metadata": {},
   "outputs": [],
   "source": [
    "def scrape_one_page(url):\n",
    "    parent_data = []\n",
    "    page = requests.get(url, headers=BASE_HEADERS)\n",
    "    soup = BeautifulSoup(page.content, 'html.parser')\n",
    "    all_items = soup.find_all('div', {'class':'BasePropertyCard_propertyCardWrap__J0xUj'})\n",
    "    \n",
    "    for item in all_items:\n",
    "        status = item.find('div', {'class':'base__StyledType-rui__sc-108xfm0-0 kpUjhd message'}).text\n",
    "        \n",
    "        try:\n",
    "            price = item.find(\n",
    "                'div', {'class':'Pricestyles__StyledPrice-rui__btk3ge-0 bvgLFe card-price\" data-testid=\"card-price\"'}\n",
    "            ).text\n",
    "        except: price = np.nan\n",
    "        \n",
    "        try:\n",
    "            bed_parent = item.find(\n",
    "                'li', \"PropertyBedMetastyles__StyledPropertyBedMeta-rui__a4nnof-0 cHVLag\"\n",
    "            )\n",
    "            bed = bed_parent.find('span', {'data-testid':'meta-value'}).text\n",
    "        except: bed = np.nan\n",
    "    \n",
    "        try:\n",
    "            bath_parent = item.find(\n",
    "                \"li\", 'PropertyBathMetastyles__StyledPropertyBathMeta-rui__sc-67m6bo-0 bSPXLm',\n",
    "            )\n",
    "            bath = bath_parent.find(\"span\", {\"data-testid\": \"meta-value\"}).text\n",
    "        except: bath = np.nan\n",
    "            \n",
    "        try:\n",
    "            sqft_parent = item.find(\n",
    "                \"li\", 'PropertySqftMetastyles__StyledPropertySqftMeta-rui__sc-1gdau7i-0 fnhaOV',\n",
    "            )\n",
    "            sqft = sqft_parent.find(\"span\", {\"data-testid\": \"meta-value\"}).text\n",
    "        except: sqft = np.nan\n",
    "            \n",
    "        try:\n",
    "            size_parent = item.find(\n",
    "                \"li\", \"PropertyLotSizeMetastyles__StyledPropertyLotSizeMeta-rui__sc-1cz4zco-0 cNMyen\",\n",
    "            )\n",
    "            size = size_parent.find(\"span\", {\"data-testid\": \"meta-value\"}).text\n",
    "        except: size = np.nan\n",
    "    \n",
    "        try:\n",
    "            address1 = item.find(\"div\", {\"data-testid\": \"card-address-1\"}).text\n",
    "        except: address1 = np.nan\n",
    "            \n",
    "        try:\n",
    "            address2 = item.find(\"div\", {\"data-testid\": \"card-address-2\"}).text\n",
    "        except: address2 = np.nan\n",
    "    \n",
    "        try:\n",
    "            product_link = item.find(\"a\", \"LinkComponent_anchor__2uAhr\")[\"href\"]\n",
    "            product_link = \"https://www.realtor.com\" + product_link\n",
    "        except: product_link = np.nan\n",
    "            \n",
    "        data = [\n",
    "            product_link,\n",
    "            status,\n",
    "            price,\n",
    "            bed,\n",
    "            bath,\n",
    "            sqft,\n",
    "            size,\n",
    "            address1,\n",
    "            address2,\n",
    "        ]\n",
    "        parent_data.append(data)\n"
   ]
  },
  {
   "cell_type": "code",
   "execution_count": 31,
   "id": "dd813dfd",
   "metadata": {},
   "outputs": [],
   "source": [
    "for page in range (1, 206):\n",
    "    df = pd.DataFrame()\n",
    "    url = 'https://www.realtor.com/realestateandhomes-search/New-York_NY/pg-{}'.format(page)\n",
    "    scrape_one_page(url)\n",
    "    cols = [\n",
    "        \"Product URL\",\n",
    "        \"Status\",\n",
    "        \"Price\",\n",
    "        \"Bed\",\n",
    "        \"Bath\",\n",
    "        \"Sqft\",\n",
    "        \"Acre Lot\",\n",
    "        \"Address 1\",\n",
    "        \"Address 2\",\n",
    "    ]\n",
    "    df = pd.DataFrame(columns=cols, data=parent_data)\n",
    "    df.to_csv('./realtor_1.csv', sep=';', encoding='UTF-8', index=False, mode='a')\n",
    "    time.sleep(random.randint(1, 50))"
   ]
  },
  {
   "cell_type": "code",
   "execution_count": null,
   "id": "1c171c47",
   "metadata": {},
   "outputs": [],
   "source": []
  }
 ],
 "metadata": {
  "kernelspec": {
   "display_name": "Python 3 (ipykernel)",
   "language": "python",
   "name": "python3"
  },
  "language_info": {
   "codemirror_mode": {
    "name": "ipython",
    "version": 3
   },
   "file_extension": ".py",
   "mimetype": "text/x-python",
   "name": "python",
   "nbconvert_exporter": "python",
   "pygments_lexer": "ipython3",
   "version": "3.10.9"
  }
 },
 "nbformat": 4,
 "nbformat_minor": 5
}
